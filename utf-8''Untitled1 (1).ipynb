{
 "cells": [
  {
   "cell_type": "code",
   "execution_count": 1,
   "metadata": {},
   "outputs": [],
   "source": [
    "import numpy as np"
   ]
  },
  {
   "cell_type": "code",
   "execution_count": 2,
   "metadata": {},
   "outputs": [],
   "source": [
    "class Transformation:\n",
    "    def edit(self,s,t):\n",
    "        m = len(s)\n",
    "        n = len(t)\n",
    "        \n",
    "        dp = np.zeros((m+1,n+1),dtype=int)  # Initialization of Distance Matrix\n",
    "        \n",
    "        ins_cost = 1                        # Insert Cost\n",
    "        del_cost = 1                        # Delete Cost\n",
    "        rep_cost = 2                        # Replace Cost\n",
    "        \n",
    "        for i in range(m+1):                # Initialization of column of Target\n",
    "            dp[i,0] = i\n",
    "        for j in range(n+1):                # Initialization of row of Source\n",
    "            dp[0,j] = j\n",
    "        \n",
    "        for i in range(1,m + 1): \n",
    "            for j in range(1,n + 1):\n",
    "                r_cost = rep_cost\n",
    "                if s[i-1] == t[j-1]: \n",
    "                    r_cost = 0              # If char are same\n",
    "                else:                       # If Char are different\n",
    "                    dp[i][j] = min(ins_cost + dp[i,j-1], del_cost + dp[i-1,j], r_cost + dp[i-1,j-1])\n",
    "        return dp\n",
    "    "
   ]
  },
  {
   "cell_type": "code",
   "execution_count": 3,
   "metadata": {},
   "outputs": [
    {
     "data": {
      "text/plain": [
       "array([[ 0,  1,  2,  3,  4,  5,  6],\n",
       "       [ 1,  2,  3,  4,  5,  6,  7],\n",
       "       [ 2,  3,  4,  5,  6,  7,  8],\n",
       "       [ 3,  4,  5,  6,  7,  8,  9],\n",
       "       [ 4,  5,  6,  7,  8,  9, 10],\n",
       "       [ 5,  6,  7,  8,  9, 10, 11]])"
      ]
     },
     "execution_count": 3,
     "metadata": {},
     "output_type": "execute_result"
    }
   ],
   "source": [
    "t= Transformation()\n",
    "t.edit('sugun','latika')"
   ]
  },
  {
   "cell_type": "code",
   "execution_count": 4,
   "metadata": {},
   "outputs": [],
   "source": [
    "class Transformation:\n",
    "    def edit(self,s,t):\n",
    "        m = len(s)\n",
    "        n = len(t)\n",
    "        \n",
    "        dp = np.zeros((2,n+1),dtype = int)                # Initialization of Distance Matrix\n",
    "        \n",
    "        ins_cost = 1                                      # Insert Cost\n",
    "        del_cost = 1                                      # Delete Cost\n",
    "        rep_cost = 2                                      # Replace Cost\n",
    "\n",
    "        for j in range(n+1):                              # Initialization of row of Source\n",
    "            dp[0,j] = j\n",
    "        \n",
    "        for i in range(1,m + 1): \n",
    "            for j in range(n + 1):  \n",
    "                if j == 0:                                # Min. operations = i\n",
    "                    dp[i%2,j] = i; \n",
    "                elif s[i-1] == t[j-1]:                    # If char are same\n",
    "                    dp[i%2,j] = dp[(i-1)%2,j-1]\n",
    "                else:                                     # If char are different\n",
    "                    dp[i%2,j] = min(ins_cost + dp[(i-1)%2,j], del_cost + dp[i%2,j-1], rep_cost + dp[(i-1)%2,j-1]); \n",
    "        return dp\n",
    "    "
   ]
  },
  {
   "cell_type": "code",
   "execution_count": 5,
   "metadata": {},
   "outputs": [
    {
     "data": {
      "text/plain": [
       "array([[ 4,  5,  6,  7,  8,  9, 10],\n",
       "       [ 5,  6,  7,  8,  9, 10, 11]])"
      ]
     },
     "execution_count": 5,
     "metadata": {},
     "output_type": "execute_result"
    }
   ],
   "source": [
    "t= Transformation()\n",
    "t.edit('sugun','latika')"
   ]
  },
  {
   "cell_type": "code",
   "execution_count": 6,
   "metadata": {},
   "outputs": [],
   "source": [
    "class Transformation:\n",
    "    def edit(self,s,t):\n",
    "        m = len(s)\n",
    "        n = len(t)\n",
    "        \n",
    "        dp = np.zeros((m+1,n+1),dtype=int)  # Initialization of Distance Matrix\n",
    "        \n",
    "        ins_cost = 1                        # Insert Cost\n",
    "        del_cost = 1                        # Delete Cost\n",
    "        rep_cost = 2                        # Replace Cost\n",
    "        \n",
    "        for i in range(m+1):                # Initialization of column of Target\n",
    "            dp[i,0] = i\n",
    "        for j in range(n+1):                # Initialization of row of Source\n",
    "            dp[0,j] = j\n",
    "        \n",
    "        for i in range(1,m + 1): \n",
    "            for j in range(1,n + 1):  \n",
    "                if i == 0: \n",
    "                    dp[i,j] = j             # Min. operations = j \n",
    "                elif j == 0: \n",
    "                    dp[i,j] = i             # Min. operations = i \n",
    "                elif s[i-1] == t[j-1]: \n",
    "                    dp[i][j] = dp[i-1,j-1]  # If char are same\n",
    "                else:                       # If Char are different\n",
    "                    dp[i][j] = min(ins_cost + dp[i,j-1], del_cost + dp[i-1,j], rep_cost + dp[i-1,j-1])\n",
    "        return dp\n",
    "    "
   ]
  },
  {
   "cell_type": "code",
   "execution_count": 7,
   "metadata": {},
   "outputs": [
    {
     "data": {
      "text/plain": [
       "array([[ 0,  1,  2,  3,  4,  5,  6],\n",
       "       [ 1,  2,  3,  4,  5,  6,  7],\n",
       "       [ 2,  3,  4,  5,  6,  7,  8],\n",
       "       [ 3,  4,  5,  6,  7,  8,  9],\n",
       "       [ 4,  5,  6,  7,  8,  9, 10],\n",
       "       [ 5,  6,  7,  8,  9, 10, 11]])"
      ]
     },
     "execution_count": 7,
     "metadata": {},
     "output_type": "execute_result"
    }
   ],
   "source": [
    "t= Transformation()\n",
    "t.edit('sugun','latika')"
   ]
  },
  {
   "cell_type": "code",
   "execution_count": 8,
   "metadata": {},
   "outputs": [],
   "source": [
    "with open('Human DNA.fa') as f:\n",
    "    h_dna = f.read()\n",
    "h_dna = h_dna.replace('\\n', ' ').replace(\" \", \"\").replace('N','')\n",
    "human_dna = h_dna[53:]"
   ]
  },
  {
   "cell_type": "code",
   "execution_count": 9,
   "metadata": {},
   "outputs": [
    {
     "name": "stdout",
     "output_type": "stream",
     "text": [
      "58440758\n"
     ]
    }
   ],
   "source": [
    "print(len(human_dna))"
   ]
  },
  {
   "cell_type": "code",
   "execution_count": 10,
   "metadata": {},
   "outputs": [
    {
     "name": "stdout",
     "output_type": "stream",
     "text": [
      "GATCACAGAGGCTGGGCTGCTCCCCACCCTCTGCACACCTCCTGCTTCTAACAGCAGAGCTGCCAGGCCAGGCCCTCAGGCAAGGGCTCTGAAGTCAGGGTCACCTACTTGCCAGGGCCGATCTTGGTGCCATCCAGGGGGCCTCTACAAGGATAATCTGACCTGCAGGGTCGAGGAGTTGACGGTGCTGAGTTCCCTGCACTCTCAGTAGGGACAGGCCCTATGCTGCCACCTGTACATGCTATCTGAAGGACAGCCTCCAGGGCACACAGAGGATGGTATTTACACATGCACACATGGCTACTGATGGGGCAAGCACTTCACAACCCCTCATGATCACGTGCAGCAGACAATGTGGCCTCTGCAGAGGGGGAACGGAGACCGGAGGCTGAGACTGGCAAGGCTGGACCTGAGTGTCGTCACCTAAATTCAGACGGGGAACTGCCCCTGCACATAGTGAACGGCTCACTGAGCAAACCCCGAGTCCCGACCACCGCCTC\n"
     ]
    }
   ],
   "source": [
    "human_dna = h_dna[53:553]\n",
    "print(human_dna[:500])"
   ]
  },
  {
   "cell_type": "code",
   "execution_count": 11,
   "metadata": {},
   "outputs": [],
   "source": [
    "with open('Werewolf DNA.fa') as f:\n",
    "    w_dna = f.read()\n",
    "w_dna = w_dna.replace('\\n', ' ').replace(\" \",'').replace('N','')\n",
    "werewolf_dna = w_dna[94:]"
   ]
  },
  {
   "cell_type": "code",
   "execution_count": 12,
   "metadata": {},
   "outputs": [
    {
     "name": "stdout",
     "output_type": "stream",
     "text": [
      "67832635\n"
     ]
    }
   ],
   "source": [
    "print(len(werewolf_dna))"
   ]
  },
  {
   "cell_type": "code",
   "execution_count": 13,
   "metadata": {},
   "outputs": [
    {
     "name": "stdout",
     "output_type": "stream",
     "text": [
      "FTCGCTGTATTGAACTCAGATACACGTTACAGTCCTGCACTTCCACTCTCATTTCTCCAATCTCTTCCAGCACTTCACGTAGGATGTTAGCAGCTATGCCGATGGGCAGGCAGGATGCGGGAGGGTCCTGCCCTGAGCTCAGCTCTCACAAGAGACCATGCCTAGAAGCCAGCTTTCAACTAGCTGCATTCTAATGGCCGTGAGACCATAGAAGTTTTCTAACTGGAGGTTCGAAGAATACCACTCTACTGCACCTGGAGACACCTTCAGGCCTGCATTATTCCACTTGTGTCTCACAAGCTTCTGACAAACGTCTCTGGTGAAGATGTTCAAAACTCATTCTGCGGGCAGGTGGAACTGTGAGGGACTGGGTGTGAGCTCAACTCTCAGAAGAGAGATGCTTTTGGACATGGGTTCAGCTAGCTTCTCACGTATGGAACTTAGTATGTAGCTGTCTAAGACAGGAATTACTAGGAAATCGCTGGATTGAGCTTGGAGGC\n"
     ]
    }
   ],
   "source": [
    "werewolf_dna = w_dna[94:594]\n",
    "print(werewolf_dna[:500])"
   ]
  },
  {
   "cell_type": "code",
   "execution_count": 17,
   "metadata": {},
   "outputs": [
    {
     "name": "stdout",
     "output_type": "stream",
     "text": [
      "[[  0   1   2 ... 498 499 500]\n",
      " [  1   2   3 ... 497 498 499]\n",
      " [  2   3   4 ... 496 497 498]\n",
      " ...\n",
      " [498 499 498 ... 350 351 350]\n",
      " [499 500 499 ... 351 352 351]\n",
      " [500 501 500 ... 352 353 352]]\n",
      "\t\n",
      "Minimum Edit Distance to convet Human nuclitodes Werewolf nuclitodes into  is 352\n"
     ]
    }
   ],
   "source": [
    "if __name__ == '__main__':\n",
    "    T = Transformation()\n",
    "    d = T.edit(human_dna,werewolf_dna)\n",
    "    print(d)\n",
    "    print(\"\\t\")\n",
    "    print('Minimum Edit Distance to convet Human nuclitodes Werewolf nuclitodes into  is',d[len(human_dna),len(werewolf_dna)])"
   ]
  },
  {
   "cell_type": "code",
   "execution_count": null,
   "metadata": {},
   "outputs": [],
   "source": []
  }
 ],
 "metadata": {
  "kernelspec": {
   "display_name": "Python 3",
   "language": "python",
   "name": "python3"
  },
  "language_info": {
   "codemirror_mode": {
    "name": "ipython",
    "version": 3
   },
   "file_extension": ".py",
   "mimetype": "text/x-python",
   "name": "python",
   "nbconvert_exporter": "python",
   "pygments_lexer": "ipython3",
   "version": "3.7.1"
  }
 },
 "nbformat": 4,
 "nbformat_minor": 2
}
