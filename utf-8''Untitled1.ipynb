{
 "cells": [
  {
   "cell_type": "code",
   "execution_count": 1,
   "metadata": {},
   "outputs": [],
   "source": [
    "import numpy as np"
   ]
  },
  {
   "cell_type": "code",
   "execution_count": 55,
   "metadata": {},
   "outputs": [],
   "source": [
    "def edit(s,t):\n",
    "    m = len(s)\n",
    "    n = len(t)\n",
    "\n",
    "    dp = np.zeros((2,n+1),dtype = int)\n",
    "    \n",
    "    for i in range(n+1):\n",
    "        dp[0,i] = i; \n",
    "        \n",
    "    for i in range(1,m+1):\n",
    "        for j in range(n+1):\n",
    "            if (j == 0):\n",
    "                dp[i%2,j] = i; \n",
    "            elif s[i-1] == t[j-1]:\n",
    "                dp[i % 2,j] = dp[(i - 1) % 2,j - 1]\n",
    "            else:\n",
    "                dp[i % 2,j] = min(1+dp[(i - 1) % 2,j], 1+ dp[i%2,j - 1], 2+dp[(i-1)%2,j - 1]); \n",
    "    return dp"
   ]
  },
  {
   "cell_type": "code",
   "execution_count": 56,
   "metadata": {},
   "outputs": [
    {
     "data": {
      "text/plain": [
       "array([[ 4,  5,  6,  7,  8,  9, 10],\n",
       "       [ 5,  6,  7,  8,  9, 10, 11]])"
      ]
     },
     "execution_count": 56,
     "metadata": {},
     "output_type": "execute_result"
    }
   ],
   "source": [
    "edit('sugun','latika')"
   ]
  },
  {
   "cell_type": "code",
   "execution_count": 50,
   "metadata": {},
   "outputs": [],
   "source": [
    "def edit(s,t):\n",
    "    m = len(s)\n",
    "    n = len(t)\n",
    "\n",
    "    dp = np.zeros((m+1,n+1),dtype = int)\n",
    "    \n",
    "    for i in range(n+1):\n",
    "        dp[0,i] = i\n",
    "    for i in range(m+1):\n",
    "        dp[i,0] = i\n",
    "    \n",
    "    for i in range(1,m + 1): \n",
    "        for j in range(1,n + 1):  \n",
    "            if i == 0: \n",
    "                dp[i][j] = j # Min. operations = j \n",
    "            elif j == 0: \n",
    "                dp[i][j] = i # Min. operations = i \n",
    "            elif s[i-1] == t[j-1]: \n",
    "                dp[i][j] = dp[i-1][j-1] \n",
    "            else: \n",
    "                dp[i][j] = min(1+dp[i][j-1],1+dp[i-1][j],2+dp[i-1][j-1])\n",
    "    return dp"
   ]
  },
  {
   "cell_type": "code",
   "execution_count": 51,
   "metadata": {},
   "outputs": [
    {
     "data": {
      "text/plain": [
       "array([[ 0,  1,  2,  3,  4,  5,  6],\n",
       "       [ 1,  2,  3,  4,  5,  6,  7],\n",
       "       [ 2,  3,  4,  5,  6,  7,  8],\n",
       "       [ 3,  4,  5,  6,  7,  8,  9],\n",
       "       [ 4,  5,  6,  7,  8,  9, 10],\n",
       "       [ 5,  6,  7,  8,  9, 10, 11]])"
      ]
     },
     "execution_count": 51,
     "metadata": {},
     "output_type": "execute_result"
    }
   ],
   "source": [
    "edit('sugun','latika')"
   ]
  },
  {
   "cell_type": "code",
   "execution_count": null,
   "metadata": {},
   "outputs": [],
   "source": []
  },
  {
   "cell_type": "code",
   "execution_count": null,
   "metadata": {},
   "outputs": [],
   "source": []
  },
  {
   "cell_type": "code",
   "execution_count": null,
   "metadata": {},
   "outputs": [],
   "source": []
  },
  {
   "cell_type": "code",
   "execution_count": null,
   "metadata": {},
   "outputs": [],
   "source": []
  }
 ],
 "metadata": {
  "kernelspec": {
   "display_name": "Python 3",
   "language": "python",
   "name": "python3"
  },
  "language_info": {
   "codemirror_mode": {
    "name": "ipython",
    "version": 3
   },
   "file_extension": ".py",
   "mimetype": "text/x-python",
   "name": "python",
   "nbconvert_exporter": "python",
   "pygments_lexer": "ipython3",
   "version": "3.7.1"
  }
 },
 "nbformat": 4,
 "nbformat_minor": 2
}
